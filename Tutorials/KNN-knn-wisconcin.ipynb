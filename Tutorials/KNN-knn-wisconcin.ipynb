{
 "cells": [
  {
   "cell_type": "code",
   "execution_count": 48,
   "metadata": {},
   "outputs": [
    {
     "name": "stdout",
     "output_type": "stream",
     "text": [
      "0.9714285714285714\n"
     ]
    }
   ],
   "source": [
    "import numpy as np\n",
    "from sklearn import preprocessing, cross_validation, neighbors\n",
    "import pandas as pd\n",
    "\n",
    "df = pd.read_csv('breast-cancer-wisconsin.data.txt')\n",
    "df.replace('?',-99999, inplace=True)\n",
    "df.drop(['id'], 1, inplace=True)\n",
    "df.bare_nuclei = df.bare_nuclei.astype('int32')\n",
    "\n",
    "X = np.array(df.drop(['class'], 1))\n",
    "y = np.array(df['class'])\n",
    "\n",
    "X_train, X_test, y_train, y_test = cross_validation.train_test_split(X, y, test_size=0.2)\n",
    "\n",
    "clf = neighbors.KNeighborsClassifier()\n",
    "clf.fit(X_train, y_train)\n",
    "accuracy = clf.score(X_test, y_test)\n",
    "print(accuracy)\n"
   ]
  },
  {
   "cell_type": "code",
   "execution_count": 49,
   "metadata": {},
   "outputs": [
    {
     "name": "stdout",
     "output_type": "stream",
     "text": [
      "[[85  4]\n",
      " [ 0 51]]\n",
      "             precision    recall  f1-score   support\n",
      "\n",
      "          2       1.00      0.96      0.98        89\n",
      "          4       0.93      1.00      0.96        51\n",
      "\n",
      "avg / total       0.97      0.97      0.97       140\n",
      "\n"
     ]
    }
   ],
   "source": [
    "from sklearn.metrics import classification_report, confusion_matrix\n",
    "y_pred = clf.predict(X_test)\n",
    "print(confusion_matrix(y_test, y_pred))\n",
    "print(classification_report(y_test, y_pred))"
   ]
  },
  {
   "cell_type": "code",
   "execution_count": 50,
   "metadata": {},
   "outputs": [],
   "source": [
    "error = []\n",
    "\n",
    "# Calculating error for K values between 1 and 40\n",
    "for i in range(1, 40):\n",
    "    knn = neighbors.KNeighborsClassifier(n_neighbors=i)\n",
    "    knn.fit(X_train, y_train)\n",
    "    pred_i = knn.predict(X_test)\n",
    "    error.append(np.mean(pred_i != y_test))"
   ]
  },
  {
   "cell_type": "code",
   "execution_count": 51,
   "metadata": {},
   "outputs": [
    {
     "data": {
      "text/plain": [
       "Text(0, 0.5, 'Mean Error')"
      ]
     },
     "execution_count": 51,
     "metadata": {},
     "output_type": "execute_result"
    },
    {
     "data": {
      "image/png": "[encoded data removed]",
      "text/plain": [
       "<Figure size 864x432 with 1 Axes>"
      ]
     },
     "metadata": {
      "needs_background": "light"
     },
     "output_type": "display_data"
    }
   ],
   "source": [
    "import matplotlib.pyplot as plt\n",
    "plt.figure(figsize=(12, 6))\n",
    "plt.plot(range(1, 40), error, color='red', linestyle='dashed', marker='o',\n",
    "         markerfacecolor='blue', markersize=10)\n",
    "plt.title('Error Rate K Value')\n",
    "plt.xlabel('K Value')\n",
    "plt.ylabel('Mean Error')"
   ]
  },
  {
   "cell_type": "code",
   "execution_count": 52,
   "metadata": {},
   "outputs": [
    {
     "name": "stdout",
     "output_type": "stream",
     "text": [
      "0.9642857142857143\n",
      "[[84  5]\n",
      " [ 0 51]]\n",
      "             precision    recall  f1-score   support\n",
      "\n",
      "          2       1.00      0.94      0.97        89\n",
      "          4       0.91      1.00      0.95        51\n",
      "\n",
      "avg / total       0.97      0.96      0.96       140\n",
      "\n"
     ]
    }
   ],
   "source": [
    "from sklearn.ensemble import RandomForestClassifier\n",
    "\n",
    "forest = RandomForestClassifier(criterion='gini',\n",
    "                                n_estimators=25, \n",
    "                                random_state=1,\n",
    "                                n_jobs=2)\n",
    "forest.fit(X_train, y_train)\n",
    "y_pred = forest.predict(X_test)\n",
    "accuracy = forest.score(X_test, y_test)\n",
    "print(accuracy)\n",
    "print(confusion_matrix(y_test, y_pred))\n",
    "print(classification_report(y_test, y_pred))"
   ]
  },
  {
   "cell_type": "markdown",
   "metadata": {},
   "source": [
    "### Assessing feature importance with random forests\n",
    "Using a random forest, we can measure the feature importance as the averaged impurity decrease computed from all decision trees in the forest, without making any assumptions about whether our data is linearly separable or not. Conveniently, the random forest implementation in scikit-learn already collects the feature importance values for us so that we can access them via the feature_importances_ attribute after fitting a RandomForestClassifier."
   ]
  },
  {
   "cell_type": "code",
   "execution_count": 53,
   "metadata": {},
   "outputs": [
    {
     "data": {
      "text/plain": [
       "Index(['clump_thickness', 'uniform_cell_size', 'uniform_cell_shape',\n",
       "       'marginal_adhesion', 'single_epi_cell_size', 'bare_nuclei',\n",
       "       'bland_chromation', 'normal_nucleoli', 'mitoses', 'class'],\n",
       "      dtype='object')"
      ]
     },
     "execution_count": 53,
     "metadata": {},
     "output_type": "execute_result"
    }
   ],
   "source": [
    "df.columns"
   ]
  },
  {
   "cell_type": "code",
   "execution_count": 54,
   "metadata": {},
   "outputs": [
    {
     "name": "stdout",
     "output_type": "stream",
     "text": [
      "[2 1 5 6 4 0 7 3 8]\n",
      "9\n",
      " 1) uniform_cell_shape             0.312510\n",
      " 2) uniform_cell_size              0.269828\n",
      " 3) bare_nuclei                    0.140922\n",
      " 4) bland_chromation               0.083937\n",
      " 5) single_epi_cell_size           0.075457\n",
      " 6) clump_thickness                0.045735\n",
      " 7) normal_nucleoli                0.042487\n",
      " 8) marginal_adhesion              0.022249\n",
      " 9) mitoses                        0.006875\n"
     ]
    }
   ],
   "source": [
    "feat_labels = df.columns[:-1]\n",
    "importances = forest.feature_importances_\n",
    "\n",
    "indices = np.argsort(importances)[::-1] #[::-1] reverse the array\n",
    "print(indices)\n",
    "print(X_train.shape[1])\n",
    "for f in range(X_train.shape[1]):\n",
    "    print(\"%2d) %-*s %f\" % (f + 1, 30, \n",
    "                            feat_labels[indices[f]], \n",
    "                            importances[indices[f]])) "
   ]
  },
  {
   "cell_type": "markdown",
   "metadata": {},
   "source": [
    "use list comprehensive, zip, sorting, and argument unpacking to output feature importance in descending order\n",
    "zip(): returns iterator\n",
    "sorted(): returns list, sorted()'s key can be function"
   ]
  },
  {
   "cell_type": "code",
   "execution_count": 55,
   "metadata": {},
   "outputs": [
    {
     "data": {
      "text/plain": [
       "\"\\n# Get numerical feature importances\\nimportances = list(forest.feature_importances_) \\nfeat_labels = df.columns[:-1]\\n# List of tuples with variable and importance\\nfeature_importances = [(feature, round(importance, 2)) for feature, importance in zip(feat_labels, importances)]\\n# Sort the feature importances by most important first\\nfeature_importances = sorted(feature_importances, key = lambda x: x[1], reverse = True)\\n# Print out the feature and importances \\n[print('Variable: {:20} Importance: {}'.format(*pair)) for pair in feature_importances];\\n\""
      ]
     },
     "execution_count": 55,
     "metadata": {},
     "output_type": "execute_result"
    }
   ],
   "source": [
    "'''\n",
    "# Get numerical feature importances\n",
    "importances = list(forest.feature_importances_) \n",
    "feat_labels = df.columns[:-1]\n",
    "# List of tuples with variable and importance\n",
    "feature_importances = [(feature, round(importance, 2)) for feature, importance in zip(feat_labels, importances)]\n",
    "# Sort the feature importances by most important first\n",
    "feature_importances = sorted(feature_importances, key = lambda x: x[1], reverse = True)\n",
    "# Print out the feature and importances \n",
    "[print('Variable: {:20} Importance: {}'.format(*pair)) for pair in feature_importances];\n",
    "'''"
   ]
  },
  {
   "cell_type": "code",
   "execution_count": 56,
   "metadata": {},
   "outputs": [
    {
     "data": {
      "image/png": "[encoded data removed]",
      "text/plain": [
       "<Figure size 432x288 with 1 Axes>"
      ]
     },
     "metadata": {
      "needs_background": "light"
     },
     "output_type": "display_data"
    }
   ],
   "source": [
    "import matplotlib.pyplot as plt\n",
    "plt.title('Feature Importance')\n",
    "plt.bar(range(X_train.shape[1]), \n",
    "        importances[indices],\n",
    "        align='center')\n",
    "\n",
    "plt.xticks(range(X_train.shape[1]), \n",
    "           feat_labels[indices], rotation=90)\n",
    "plt.xlim([-1, X_train.shape[1]])\n",
    "plt.tight_layout()\n",
    "plt.show()"
   ]
  },
  {
   "cell_type": "markdown",
   "metadata": {},
   "source": [
    "### Visualizing a Single Decision Tree"
   ]
  },
  {
   "cell_type": "code",
   "execution_count": 57,
   "metadata": {},
   "outputs": [],
   "source": [
    "from pydotplus import graph_from_dot_data\n",
    "from sklearn.tree import export_graphviz\n",
    "\n",
    "# Pull out one tree from the forest\n",
    "tree = forest.estimators_[5]\n",
    "\n",
    "# Export the image to a dot data\n",
    "df1 = df.drop(['class'], 1)\n",
    "feature_list = list(df1.columns)\n",
    "dot_data = export_graphviz(tree, out_file = None, \n",
    "                feature_names = feature_list, \n",
    "                rounded = True, precision = 1)\n",
    "# Use dot data to create a graph\n",
    "graph = graph_from_dot_data(dot_data)\n",
    "\n",
    "# Write graph to a png file\n",
    "graph.write_png('tree_wisconcin.png'); "
   ]
  },
  {
   "cell_type": "markdown",
   "metadata": {},
   "source": [
    "### Smaller tree for visualization"
   ]
  },
  {
   "cell_type": "code",
   "execution_count": 58,
   "metadata": {},
   "outputs": [
    {
     "name": "stdout",
     "output_type": "stream",
     "text": [
      "0.9285714285714286\n",
      "[[81  8]\n",
      " [ 2 49]]\n",
      "             precision    recall  f1-score   support\n",
      "\n",
      "          2       0.98      0.91      0.94        89\n",
      "          4       0.86      0.96      0.91        51\n",
      "\n",
      "avg / total       0.93      0.93      0.93       140\n",
      "\n"
     ]
    }
   ],
   "source": [
    "forest_small = RandomForestClassifier(criterion='gini',\n",
    "                                n_estimators=10, \n",
    "                                max_depth = 3, random_state=1,\n",
    "                                n_jobs=2)\n",
    "forest_small.fit(X_train, y_train)\n",
    "y_pred = forest_small.predict(X_test)\n",
    "accuracy = forest_small.score(X_test, y_test)\n",
    "print(accuracy)\n",
    "print(confusion_matrix(y_test, y_pred))\n",
    "print(classification_report(y_test, y_pred))"
   ]
  },
  {
   "cell_type": "code",
   "execution_count": 59,
   "metadata": {},
   "outputs": [],
   "source": [
    "from pydotplus import graph_from_dot_data\n",
    "from sklearn.tree import export_graphviz\n",
    "# Pull out one tree from the forest\n",
    "tree_small = forest_small.estimators_[5]\n",
    "\n",
    "# Export the image to a dot data\n",
    "df1 = df.drop(['class'], 1)\n",
    "feature_list = list(df1.columns)\n",
    "dot_data = export_graphviz(tree_small, out_file = None, \n",
    "                feature_names = feature_list, \n",
    "                rounded = True, precision = 1)\n",
    "# Use dot data to create a graph\n",
    "graph = graph_from_dot_data(dot_data)\n",
    "\n",
    "# Write graph to a png file\n",
    "graph.write_png('tree_small_wisconcin.png');"
   ]
  }
 ],
 "metadata": {
  "kernelspec": {
   "display_name": "Python 3",
   "language": "python",
   "name": "python3"
  },
  "language_info": {
   "codemirror_mode": {
    "name": "ipython",
    "version": 3
   },
   "file_extension": ".py",
   "mimetype": "text/x-python",
   "name": "python",
   "nbconvert_exporter": "python",
   "pygments_lexer": "ipython3",
   "version": "3.7.0"
  }
 },
 "nbformat": 4,
 "nbformat_minor": 2
}
